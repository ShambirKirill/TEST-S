{
 "cells": [
  {
   "cell_type": "code",
   "execution_count": 1,
   "id": "2a773bab",
   "metadata": {},
   "outputs": [],
   "source": [
    "import pandas as pd"
   ]
  },
  {
   "cell_type": "code",
   "execution_count": 2,
   "id": "74c22213",
   "metadata": {},
   "outputs": [],
   "source": [
    "def first_task(n_customers):\n",
    "    try:\n",
    "        n_customers_in_group = []\n",
    "        for i in range(n_customers):\n",
    "            n_customers_in_group_dict = {}\n",
    "            id_customer = list(str(i)) # Преобразовал в строку, и разбил на символы\n",
    "            id_customer = [int(el) for el in id_customer] # Преобразовал каждый символ в целое число\n",
    "            group_id = sum(id_customer) # Просуммировал\n",
    "            n_customers_in_group_dict['group_id'] = group_id\n",
    "            n_customers_in_group.append(n_customers_in_group_dict)\n",
    "        df = pd.DataFrame(n_customers_in_group)\n",
    "        return df.groupby(['group_id']).size()\n",
    "    except TypeError:\n",
    "        return \"Введите целое число\""
   ]
  },
  {
   "cell_type": "code",
   "execution_count": 3,
   "id": "d6d92c38",
   "metadata": {},
   "outputs": [],
   "source": [
    "def second_task(n_customers, n_first_id):\n",
    "    try:\n",
    "        n_customers_in_group = []\n",
    "        for i in range(n_customers):\n",
    "            n_customers_in_group_dict = {}\n",
    "            id_customer = list(str(n_first_id + i)) # Преобразовал в строку, и разбил на символы\n",
    "            id_customer = [int(el) for el in id_customer] # Преобразовал каждый символ в целое число\n",
    "            group_id = sum(id_customer) # Просуммировал\n",
    "            n_customers_in_group_dict['group_id'] = group_id\n",
    "            n_customers_in_group.append(n_customers_in_group_dict)\n",
    "        df = pd.DataFrame(n_customers_in_group)\n",
    "        return df.groupby(['group_id']).size()\n",
    "    except TypeError:\n",
    "        return \"Введите целое число\""
   ]
  },
  {
   "cell_type": "code",
   "execution_count": 4,
   "id": "f7f0deb5",
   "metadata": {},
   "outputs": [
    {
     "data": {
      "text/plain": [
       "group_id\n",
       "0    1\n",
       "1    1\n",
       "2    1\n",
       "dtype: int64"
      ]
     },
     "execution_count": 4,
     "metadata": {},
     "output_type": "execute_result"
    }
   ],
   "source": [
    "first_task(3)"
   ]
  },
  {
   "cell_type": "code",
   "execution_count": 5,
   "id": "0b0a2ef3",
   "metadata": {},
   "outputs": [
    {
     "data": {
      "text/plain": [
       "group_id\n",
       "1    1\n",
       "2    2\n",
       "3    1\n",
       "4    1\n",
       "5    1\n",
       "6    1\n",
       "7    1\n",
       "8    1\n",
       "9    1\n",
       "dtype: int64"
      ]
     },
     "execution_count": 5,
     "metadata": {},
     "output_type": "execute_result"
    }
   ],
   "source": [
    "second_task(10, 2)"
   ]
  }
 ],
 "metadata": {
  "kernelspec": {
   "display_name": "Python 3 (ipykernel)",
   "language": "python",
   "name": "python3"
  },
  "language_info": {
   "codemirror_mode": {
    "name": "ipython",
    "version": 3
   },
   "file_extension": ".py",
   "mimetype": "text/x-python",
   "name": "python",
   "nbconvert_exporter": "python",
   "pygments_lexer": "ipython3",
   "version": "3.9.12"
  }
 },
 "nbformat": 4,
 "nbformat_minor": 5
}
